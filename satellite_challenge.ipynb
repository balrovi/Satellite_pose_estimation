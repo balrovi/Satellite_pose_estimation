{
 "cells": [
  {
   "cell_type": "code",
   "execution_count": 8,
   "id": "8cad8544",
   "metadata": {},
   "outputs": [],
   "source": [
    "import os \n",
    "import torch \n",
    "from torch import nn \n",
    "import torch.nn.functional as F\n",
    "from torch.utils.data import DataLoader, random_split \n",
    "from torchvision import transforms, models\n",
    "import pytorch_lightning as pl \n",
    "from utils import PyTorchSatellitePoseEstimationDataset"
   ]
  },
  {
   "cell_type": "code",
   "execution_count": 9,
   "id": "d43ed2e0",
   "metadata": {},
   "outputs": [],
   "source": [
    "ROOT_DIR = '/home/salem/Documents/DLR/challenge/speed'"
   ]
  },
  {
   "cell_type": "code",
   "execution_count": 14,
   "id": "be030fb1",
   "metadata": {},
   "outputs": [],
   "source": [
    "class SatellitePoseEstimationModel(pl.LightningModule):\n",
    "    def __init__(self): \n",
    "        super().__init__()\n",
    "        initialized_model = models.resnet18(pretrained=True)\n",
    "        num_ftrs = initialized_model.fc.in_features\n",
    "        initialized_model.fc = torch.nn.Linear(num_ftrs, 7)\n",
    "        self.model = initialized_model\n",
    "    \n",
    "    def forward(self,x):\n",
    "        return self.model(x)\n",
    "        \n",
    "    def training_step(self,batch ,batch_idx):\n",
    "        x,y = batch \n",
    "        y_hat = self.model(x)\n",
    "        loss = F.mse_loss(y_hat.float(),y.float())\n",
    "        self.log(\"train_loss\",loss)\n",
    "        return loss\n",
    "        \n",
    "    def configure_optimizers(self):\n",
    "        return torch.optim.Adam(self.parameters(),lr = 0.001)\n",
    "    "
   ]
  },
  {
   "cell_type": "code",
   "execution_count": 15,
   "id": "d5b7a56a",
   "metadata": {},
   "outputs": [],
   "source": [
    "class DataModule(pl.LightningDataModule) : \n",
    "    def __init__(self, batch_size, speed_root):\n",
    "        super().__init__()\n",
    "        self.batch_size = batch_size \n",
    "        self.speed_root = speed_root\n",
    "\n",
    "    def setup(self, stage = None):\n",
    "        #Transforms \n",
    "        data_transforms = transforms.Compose([transforms.Resize((224, 224)),\n",
    "                                              transforms.ToTensor(),\n",
    "                                              transforms.Normalize([0.485, 0.456, 0.406], \n",
    "                                                                   [0.229, 0.224, 0.225])])\n",
    "        full_dataset = PyTorchSatellitePoseEstimationDataset('train', self.speed_root, data_transforms)\n",
    "        if stage in (None, \"fit\"):\n",
    "            self.train_dataset, self.val_dataset = torch.utils.data.random_split(full_dataset, \n",
    "                                                                   [int(len(full_dataset) * .8),\n",
    "                                                                    int(len(full_dataset) * .2)])\n",
    "        if stage == (None, \"test\"): \n",
    "            self.test_dataset = PyTorchSatellitePoseEstimationDataset('test', self.speed_root, data_transforms)\n",
    "            \n",
    "    def train_dataloader(self):\n",
    "        return DataLoader(self.train_dataset, batch_size=self.batch_size, shuffle=True, num_workers=8)\n",
    "    def val_dataloader(self):\n",
    "        return DataLoader(self.val_dataset, batch_size=self.batch_size, shuffle=True, num_workers=8)\n",
    "    def test_dataloader(self):\n",
    "        return DataLoader(self.test_dataset, batch_size = self.batch_size)"
   ]
  },
  {
   "cell_type": "code",
   "execution_count": 16,
   "id": "ed0b5511",
   "metadata": {},
   "outputs": [
    {
     "name": "stderr",
     "output_type": "stream",
     "text": [
      "GPU available: False, used: False\n",
      "TPU available: False, using: 0 TPU cores\n",
      "\n",
      "  | Name  | Type   | Params\n",
      "---------------------------------\n",
      "0 | model | ResNet | 11.2 M\n",
      "---------------------------------\n",
      "11.2 M    Trainable params\n",
      "0         Non-trainable params\n",
      "11.2 M    Total params\n",
      "44.720    Total estimated model params size (MB)\n"
     ]
    },
    {
     "data": {
      "application/vnd.jupyter.widget-view+json": {
       "model_id": "b0bc0bb4d726436d96a3fb656135182c",
       "version_major": 2,
       "version_minor": 0
      },
      "text/plain": [
       "Training: 0it [00:00, ?it/s]"
      ]
     },
     "metadata": {},
     "output_type": "display_data"
    }
   ],
   "source": [
    "model = SatellitePoseEstimationModel()\n",
    "dm = DataModule(batch_size = 32, speed_root = ROOT_DIR )\n",
    "trainer = pl.Trainer(gpus = 0 , max_epochs = 10)\n",
    "trainer.fit(model, dm) "
   ]
  },
  {
   "cell_type": "code",
   "execution_count": null,
   "id": "e1a83cda",
   "metadata": {},
   "outputs": [
    {
     "name": "stdout",
     "output_type": "stream",
     "text": [
      "2021-08-18 18:28:38.816116: I tensorflow/stream_executor/platform/default/dso_loader.cc:49] Successfully opened dynamic library libcudart.so.10.1\n",
      "Serving TensorBoard on localhost; to expose to the network, use a proxy or pass --bind_all\n",
      "TensorBoard 2.4.1 at http://localhost:6006/ (Press CTRL+C to quit)\n"
     ]
    }
   ],
   "source": [
    "!tensorboard --logdir lightning_logs"
   ]
  },
  {
   "cell_type": "code",
   "execution_count": null,
   "id": "790e3ffd",
   "metadata": {},
   "outputs": [],
   "source": []
  }
 ],
 "metadata": {
  "kernelspec": {
   "display_name": "Python 3",
   "language": "python",
   "name": "python3"
  },
  "language_info": {
   "codemirror_mode": {
    "name": "ipython",
    "version": 3
   },
   "file_extension": ".py",
   "mimetype": "text/x-python",
   "name": "python",
   "nbconvert_exporter": "python",
   "pygments_lexer": "ipython3",
   "version": "3.8.10"
  }
 },
 "nbformat": 4,
 "nbformat_minor": 5
}
